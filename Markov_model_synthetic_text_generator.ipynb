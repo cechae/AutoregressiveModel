{
 "cells": [
  {
   "cell_type": "code",
   "execution_count": 1,
   "id": "ad0c2ae5",
   "metadata": {},
   "outputs": [],
   "source": [
    "import random\n",
    "import numpy as np\n",
    "from tqdm import tqdm # Quality-of-life package, makes loading bars in for loops. See github.com/tqdm/tqdm for details.\n",
    "\n",
    "import matplotlib.pyplot as plt\n",
    "plt.style.use('classic') # Optional styling for the plots. I think it's pretty."
   ]
  },
  {
   "cell_type": "code",
   "execution_count": 2,
   "id": "33f29553",
   "metadata": {},
   "outputs": [],
   "source": [
    "#Code adapted from https://pypi.org/project/Gutenberg/ to help download from \n",
    "#Project Gutenberg (www.gutenberg.org/) automatically. You don't need to read this.\n",
    "\n",
    "def _format_download_urls(etextno):\n",
    "    \"\"\"\n",
    "    Returns the possible urls location on the Project Gutenberg servers for a\n",
    "    given text. Mostly ripped from https://pypi.org/project/Gutenberg/.\n",
    "    \"\"\"\n",
    "    uri_root = r'http://www.gutenberg.lib.md.us'\n",
    "\n",
    "    if 0 < etextno < 10:\n",
    "        oldstyle_files = (\n",
    "            'when11',\n",
    "            'bill11',\n",
    "            'jfk11',\n",
    "            'getty11',\n",
    "            'const11',\n",
    "            'liber11',\n",
    "            'mayfl11',\n",
    "            'linc211',\n",
    "            'linc111',\n",
    "        )\n",
    "        etextno = int(etextno)\n",
    "        return '{root}/etext90/{name}.txt'.format(\n",
    "            root=uri_root,\n",
    "            name=oldstyle_files[etextno - 1])\n",
    "\n",
    "    else:\n",
    "        etextno = str(etextno)\n",
    "        extensions = ('.txt', '-8.txt', '-0.txt')\n",
    "        urls = []\n",
    "        for extension in extensions:\n",
    "            uri = '{root}/{path}/{etextno}/{etextno}{extension}'.format(\n",
    "                root=uri_root,\n",
    "                path='/'.join(etextno[:len(etextno) - 1]),\n",
    "                etextno=etextno,\n",
    "                extension=extension)\n",
    "            urls.append(uri)\n",
    "        return urls"
   ]
  },
  {
   "cell_type": "code",
   "execution_count": 3,
   "id": "97fba8e6",
   "metadata": {},
   "outputs": [],
   "source": [
    "def download_from_book_id(bookid, bookname):\n",
    "  \"\"\"\n",
    "  Downloads a from book from Project Gutenberg given the book's id number, and\n",
    "  stores it locally in `bookname.txt`.\n",
    "  \n",
    "  :param      bookid:    The id of the book on Project Gutenberg\n",
    "  :type       bookid:    int\n",
    "  :param      bookname:  The name to give the book (or rather the file path to the book)\n",
    "  :type       bookname:  str\n",
    "  \"\"\"\n",
    "\n",
    "  book_dst = f'{bookname}.txt'\n",
    "\n",
    "  import os\n",
    "  from six.moves import urllib\n",
    "\n",
    "  if os.path.isfile(book_dst):\n",
    "      print('File %s is already downloaded' % book_dst)\n",
    "  else:\n",
    "      possible_urls = _format_download_urls(bookid)\n",
    "      print(possible_urls)\n",
    "      for url in possible_urls:\n",
    "        print(f'trying {url}...')\n",
    "        try:\n",
    "          urllib.request.urlretrieve(url, book_dst)\n",
    "          print(f'Downloaded {bookname}.txt, with book id {bookid}.')\n",
    "          return\n",
    "        except urllib.error.HTTPError:\n",
    "          None\n",
    "      raise NameError(\"Couldn't find that book on Gutenberg\")\n"
   ]
  },
  {
   "cell_type": "code",
   "execution_count": 4,
   "id": "76ee4b1f",
   "metadata": {},
   "outputs": [
    {
     "name": "stdout",
     "output_type": "stream",
     "text": [
      "['http://www.gutenberg.lib.md.us/1/0/100/100.txt', 'http://www.gutenberg.lib.md.us/1/0/100/100-8.txt', 'http://www.gutenberg.lib.md.us/1/0/100/100-0.txt']\n",
      "trying http://www.gutenberg.lib.md.us/1/0/100/100.txt...\n",
      "trying http://www.gutenberg.lib.md.us/1/0/100/100-8.txt...\n",
      "trying http://www.gutenberg.lib.md.us/1/0/100/100-0.txt...\n",
      "Downloaded Shakespeare.txt, with book id 100.\n",
      "['http://www.gutenberg.lib.md.us/5/2/0/5200/5200.txt', 'http://www.gutenberg.lib.md.us/5/2/0/5200/5200-8.txt', 'http://www.gutenberg.lib.md.us/5/2/0/5200/5200-0.txt']\n",
      "trying http://www.gutenberg.lib.md.us/5/2/0/5200/5200.txt...\n",
      "trying http://www.gutenberg.lib.md.us/5/2/0/5200/5200-8.txt...\n",
      "trying http://www.gutenberg.lib.md.us/5/2/0/5200/5200-0.txt...\n",
      "Downloaded Metamorphosis.txt, with book id 5200.\n",
      "['http://www.gutenberg.lib.md.us/1/11/11.txt', 'http://www.gutenberg.lib.md.us/1/11/11-8.txt', 'http://www.gutenberg.lib.md.us/1/11/11-0.txt']\n",
      "trying http://www.gutenberg.lib.md.us/1/11/11.txt...\n",
      "trying http://www.gutenberg.lib.md.us/1/11/11-8.txt...\n",
      "trying http://www.gutenberg.lib.md.us/1/11/11-0.txt...\n",
      "Downloaded Wonderland.txt, with book id 11.\n",
      "['http://www.gutenberg.lib.md.us/1/1/8/1184/1184.txt', 'http://www.gutenberg.lib.md.us/1/1/8/1184/1184-8.txt', 'http://www.gutenberg.lib.md.us/1/1/8/1184/1184-0.txt']\n",
      "trying http://www.gutenberg.lib.md.us/1/1/8/1184/1184.txt...\n",
      "trying http://www.gutenberg.lib.md.us/1/1/8/1184/1184-8.txt...\n",
      "trying http://www.gutenberg.lib.md.us/1/1/8/1184/1184-0.txt...\n",
      "Downloaded MonteCristo.txt, with book id 1184.\n"
     ]
    }
   ],
   "source": [
    "download_from_book_id(100, \"Shakespeare\")\n",
    "download_from_book_id(5200, \"Metamorphosis\")\n",
    "download_from_book_id(11, \"Wonderland\")\n",
    "download_from_book_id(1184, \"MonteCristo\")"
   ]
  },
  {
   "cell_type": "code",
   "execution_count": 5,
   "id": "b3c3453c",
   "metadata": {},
   "outputs": [
    {
     "name": "stdout",
     "output_type": "stream",
     "text": [
      "﻿The Project Gutenberg eBook of Alice’s Adventures in Wonderland, by Lewis Carroll\n",
      "\n",
      "This eBook is for the use of anyone anywhere in the United States and\n",
      "most other parts of the world at no cost and with almost no restrictions\n",
      "whatsoever. You may copy it, give it away or re-use it under the terms\n",
      "of the Project Gutenberg License included with this eBook or online at\n",
      "www.gutenberg.org. If you are not located in the United States, you\n",
      "will have to check the laws of the country where you are located before\n",
      "using this eBook.\n",
      "\n",
      "Title: Alice’s Adventures in Wonderland\n",
      "\n",
      "Author: Lewis Carroll\n",
      "\n",
      "Release Date: January, 1991 [eBook #11]\n",
      "[Most recently updated: October 12, 2020]\n",
      "\n",
      "Language: English\n",
      "\n",
      "Character set encoding: UTF-8\n",
      "\n",
      "Produced by: Arthur DiBianca and David Widger\n",
      "\n",
      "*** START OF THE PROJECT GUTENBERG EBOOK ALICE’S ADVENTURES IN WONDERLAND ***\n",
      "\n",
      "[Illustration]\n",
      "\n",
      "\n",
      "\n",
      "\n",
      "Alice’s Adventures in Wonderland\n",
      "\n",
      "by Lewis Carroll\n",
      "\n",
      "THE MILLENNIUM FULCRUM EDITION 3.0\n",
      "\n",
      "Contents\n",
      "\n",
      " CHAPTER I.     Down the Rabbit-\n"
     ]
    }
   ],
   "source": [
    "file_handle = open(\"Wonderland.txt\", encoding=\"utf8\")  # It's very important to mention utf8 encoding\n",
    "wonderland_book_text = file_handle.read()  # Copies the book as a string in memory\n",
    "file_handle.close()\n",
    "\n",
    "print(wonderland_book_text[0:1000])"
   ]
  },
  {
   "cell_type": "code",
   "execution_count": 6,
   "id": "5295dd08",
   "metadata": {},
   "outputs": [],
   "source": [
    "def word_sequence_from_file(filepath):\n",
    "    \"\"\"\n",
    "    Given a filepath to a text file for a Project Gutenberg book, this splits\n",
    "    the book into a list of strings, where each string is a word from the book.\n",
    "    Foratting data, like where \\n or spaces happen is destroyed by this, but\n",
    "    punctuation like \"word.\" are preserved.\n",
    "\n",
    "    :param      filepath:  The filepath to the book\n",
    "    :type       filepath:  string\n",
    "\n",
    "    :returns:   A list of strings without any whitespace.\n",
    "    :rtype:     List of string\n",
    "    \"\"\"\n",
    "\n",
    "    # Open the file\n",
    "    file_handle = open(filepath, encoding=\"utf8\")\n",
    "    raw_book_text = file_handle.read()  # Copies the book as a string in memory\n",
    "    file_handle.close()\n",
    "\n",
    "    # TODO: Write this function.\n",
    "    substring = \"***\"\n",
    "    first_index = raw_book_text.find(substring)\n",
    "    second_index = raw_book_text.find(substring, first_index + 1)\n",
    "    third_index = raw_book_text.find(substring, second_index + 1)\n",
    "    start_of_book_idx = second_index+3\n",
    "    end_of_book_idx = third_index\n",
    "    sliced_book_str = raw_book_text[start_of_book_idx:end_of_book_idx]\n",
    "    word_sequence = sliced_book_str.split()\n",
    "    \n",
    "    return word_sequence"
   ]
  },
  {
   "cell_type": "code",
   "execution_count": 7,
   "id": "2c2c85c6",
   "metadata": {},
   "outputs": [],
   "source": [
    "shakespeare = word_sequence_from_file(\"Shakespeare.txt\")\n",
    "metamorphosis = word_sequence_from_file(\"Metamorphosis.txt\")\n",
    "wonderland = word_sequence_from_file(\"Wonderland.txt\")\n",
    "montecristo = word_sequence_from_file(\"MonteCristo.txt\")"
   ]
  },
  {
   "cell_type": "code",
   "execution_count": 8,
   "id": "b0b1532e",
   "metadata": {},
   "outputs": [],
   "source": [
    "# Learning Markov Model\n",
    "#A Markov Model of order  𝑘  predicts that each word occurs with some probability, but that probability depends on the previous  𝑘  consequtive words, called a k-gram.\n",
    "def make_freq_dict(k, word_sequence):\n",
    "    # Make empty dict to count frequencies\n",
    "    freq_dict = dict()\n",
    "    for i in range(len(word_sequence) - k):\n",
    "      kgram = \" \".join(word_sequence[i : i+k])\n",
    "      next_word = word_sequence[i+k]\n",
    "      if kgram not in freq_dict:\n",
    "        freq_dict[kgram] = {}\n",
    "      if next_word not in freq_dict[kgram]:\n",
    "        freq_dict[kgram][next_word] = 0\n",
    "      freq_dict[kgram][next_word] = freq_dict[kgram][next_word] + 1\n",
    "    return freq_dict"
   ]
  },
  {
   "cell_type": "code",
   "execution_count": 9,
   "id": "a3e10aa8",
   "metadata": {},
   "outputs": [],
   "source": [
    "from six import b\n",
    "def predict_next_word(this_kgram, freq_dict):\n",
    "\n",
    "    if this_kgram not in freq_dict:\n",
    "      return None\n",
    "    # Otherwise, get the dictionary for this kgram\n",
    "    this_dict = freq_dict[this_kgram]\n",
    "    keys = list(this_dict.keys())\n",
    "    vals = list(this_dict.values())\n",
    "    ans = random.choices(keys, weights = vals, k = 1)\n",
    "    return ans[0]\n",
    "\n",
    "\n",
    "def predict_paragraph(start_kgram, k, freq_dict, gen_length=300):\n",
    "    gen_para = start_kgram.copy()\n",
    "    for i in range(gen_length):\n",
    "      # just take the last k items in the gen_para\n",
    "      predicted_word = predict_next_word(\" \".join(gen_para[-k:]), freq_dict) \n",
    "      if predicted_word is None:\n",
    "        break\n",
    "      gen_para.append(predicted_word)\n",
    "    return gen_para\n"
   ]
  },
  {
   "cell_type": "code",
   "execution_count": 10,
   "id": "8c0c8142",
   "metadata": {},
   "outputs": [
    {
     "data": {
      "text/plain": [
       "'not impeding Gregor as he lay there quietly a while longer, breathing lightly as if he could advise his sister like in the old days; but he had never felt before. “Oh, God”, he thought, “what a strenuous career it is that I’ve chosen! Travelling day in and day out. Doing business like this takes much more effort than doing your own business at home, and on top of the large amount of sewing work she did. Gregor even learned, listening to the evening conversation about what price they had hoped for, that several items of jewellery belonging to the family had been sold, even though both mother and sister would urge each other to be quiet; his mother, bent deeply under the lamp, would sew fancy underwear for a fashion shop; his sister, who had taken a room in this establishment, in the entire flat and especially in the kitchen. Nonetheless, Gregor’s father came into the room and waited. Gregor’s father soon appeared with the music stand, his mother with the music stand, his mother with the cooking; although that was in a position to bear the costs of the whole performance and it was only when the cleaner still did not seem to want to leave that they looked up in irritation. “Well?”, asked Mr. Samsa. The charwoman stood in the doorway with a smile on her face as if she were suffocating. Even if it was dirty. They had moreover brought most of their own furnishings and equipment with them. For this reason, many things had become superfluous which, although they could not move out of it, there was no question. “If he could just understand us”, repeated Gregor’s father, closing his eyes in acceptance of his sister’s certainty that that was quite impossible, “then perhaps we could come to'"
      ]
     },
     "execution_count": 10,
     "metadata": {},
     "output_type": "execute_result"
    }
   ],
   "source": [
    "# Pick k and make a frequency dictionary from Metamorphosis.\n",
    "k_test = 3\n",
    "freq_dict_test = make_freq_dict(k_test, metamorphosis)\n",
    "\n",
    "# pick a random starting k-gram from the freq-dict.\n",
    "start_test = random.choice(list(freq_dict_test.keys())).split()\n",
    "\n",
    "\n",
    "# Alternatively, pick the start of the book as the first k-gram\n",
    "# start_test = metamorphosis[0:k_test]\n",
    "\n",
    "# Generate a paragraph, and print it.\n",
    "gen_paragraph = predict_paragraph(start_test, k_test, freq_dict_test)\n",
    "\" \".join(gen_paragraph)"
   ]
  },
  {
   "cell_type": "code",
   "execution_count": null,
   "id": "e61411b8",
   "metadata": {},
   "outputs": [],
   "source": []
  }
 ],
 "metadata": {
  "kernelspec": {
   "display_name": "Python 3 (ipykernel)",
   "language": "python",
   "name": "python3"
  },
  "language_info": {
   "codemirror_mode": {
    "name": "ipython",
    "version": 3
   },
   "file_extension": ".py",
   "mimetype": "text/x-python",
   "name": "python",
   "nbconvert_exporter": "python",
   "pygments_lexer": "ipython3",
   "version": "3.11.3"
  }
 },
 "nbformat": 4,
 "nbformat_minor": 5
}
